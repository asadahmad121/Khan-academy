{
 "cells": [
  {
   "cell_type": "markdown",
   "id": "9b7041e2",
   "metadata": {},
   "source": [
    "11/05/2022"
   ]
  },
  {
   "cell_type": "markdown",
   "id": "bd7d5721",
   "metadata": {},
   "source": [
    "create 2d random walk with four possible steps (up, down, left, right) using object oriented programming"
   ]
  },
  {
   "cell_type": "code",
   "execution_count": null,
   "id": "42909fd3",
   "metadata": {},
   "outputs": [],
   "source": [
    "#create a object called Walker, the properties it would have are its x and y position.\n",
    "\n",
    "# initial values assigned to x and y are half the width and height of the 2d canvas, width and height are\n",
    "#inbuilt functions in ps5\n",
    "\n",
    "#The \"this\" parameter is a reference to the current instance of the class, and is used to access variables that belongs to the class.\n",
    "\n",
    "var Walker = function (){\n",
    "    \n",
    "    this.x = width/2;\n",
    "    this.y = height/2;\n",
    "}"
   ]
  },
  {
   "cell_type": "code",
   "execution_count": null,
   "id": "bf7fda7d",
   "metadata": {},
   "outputs": [],
   "source": [
    "# Now we add a method to the Walker object created above. \n",
    "# We add methods to an object in JavaScript by attaching them to the object's prototype.\n",
    "# we will call this method \"display\", it just creates a black dot on the screen (by using \"stroke\" function to assign a colour)\n",
    "# and \"point\" function to say its a point on the canvas with the x and y positions of the object hence we use \"this\"\n",
    "\n",
    "Walker.prototype.display = function() {\n",
    "    stroke(0, 0, 0);\n",
    "    point(this.x, this.y);\n",
    "};"
   ]
  },
  {
   "cell_type": "code",
   "execution_count": null,
   "id": "e67c0928",
   "metadata": {},
   "outputs": [],
   "source": [
    "# Create a new method which moves this black dot we created above. It can move UP,DOWN,LEFT,RIGHT but must\n",
    "# do in a random way.\n",
    "\n",
    "# inbuild function \"random(4)\" would pick a random decimal number between 0 and 4, and then use \"floor\" to convert to integer so \n",
    "# we have 4 possible outputs and then assign up,down,left,right movement(4 possibilites) to it\n",
    "\n",
    "Walker.prototype.walk = function() {\n",
    "    var movement = floor(random(4));\n",
    "    if (movement === 0) {\n",
    "        this.x++; # moves one unit to right (can increase to 2,3 or how ever man you want, same for all below)\n",
    "    } else if (movement === 1) {\n",
    "        this.x--; # moves one unit to left\n",
    "    } else if (movement === 2) {\n",
    "        this.y++; # moves one unit to up\n",
    "    } else {\n",
    "        this.y--; # moves one unit to down\n",
    "    } \n",
    "};"
   ]
  },
  {
   "cell_type": "code",
   "execution_count": null,
   "id": "d43a9f2b",
   "metadata": {},
   "outputs": [],
   "source": [
    "# Now that we have defined attributes of our object, as well as methods which can act on it, we will \n",
    "# create an instance of Walker from essentially the blueprint we have created above.\n",
    "\n",
    "var w = new Walker();\n",
    "\n",
    "# we will now use the inbuilt \"draw\" function which continously executes logic contained inside it\n",
    "\n",
    "# in first step creates black dot in position as defined right in the top cell of this notebook using the\n",
    "# display method then dot moves randomly in one of 4 directions using walk method, in second step display \n",
    "# is called again, a new dot is created with new x,y values, then walk is called to select a new random \n",
    "# position and so on.... \n",
    "\n",
    "draw = function() {\n",
    "    w.display(); \n",
    "    w.walk();    \n",
    "};"
   ]
  },
  {
   "cell_type": "markdown",
   "id": "ffbee6cd",
   "metadata": {},
   "source": [
    "For next time, trying writing logic above from memory and expand on movement function so it can also go nort-west etc instead of just N,W,S,E"
   ]
  },
  {
   "cell_type": "markdown",
   "id": "45685cfb",
   "metadata": {},
   "source": [
    "12/05/2022\n",
    "\n",
    "Wrote our code above from memory (referred to doc online when required), made few modifications:\n",
    "\n",
    "1. instead of just going in 4 directions (N,W,S,E) now we are also going north-west, north-east etc giving us total of 8 directions\n",
    "2. Colour of the walker changes depending on this x and y position, previously it was just a black dot"
   ]
  },
  {
   "cell_type": "code",
   "execution_count": null,
   "id": "6b87988a",
   "metadata": {},
   "outputs": [],
   "source": [
    "var walker = function (){\n",
    "    this.x = width/2;\n",
    "    this.y = height/2;\n",
    "};\n",
    "\n",
    "walker.prototype.display = function(){\n",
    "    stroke(this.x,this.y,0); #  Colour of the walker changes depending on this x and y position, previously it was just a black dot\n",
    "    point(this.x,this.y);\n",
    "};\n",
    "# instead of just going in 4 directions (N,W,S,E) now we are also going north-west, north-east etc giving us total of 8 directions.\n",
    "# khan academy has a better solution where it picks randomly (-1,0,1) for both x and y and when updates values of both. exercise for \n",
    "# next time, try and do it that way.\n",
    "\n",
    "walker.prototype.movement = function(){\n",
    "    var choice = floor(random(8));\n",
    "    if (choice === 0){\n",
    "        this.x++;\n",
    "    } else if (choice === 1){\n",
    "        this.x--;\n",
    "    }else if (choice === 2){\n",
    "        this.y++;\n",
    "    }else if (choice === 3){\n",
    "        this.y--;\n",
    "    }else if (choice === 4){\n",
    "        this.x++;\n",
    "        this.y++;\n",
    "    }else if (choice === 5){\n",
    "        this.x++;\n",
    "        this.y--;\n",
    "    }else if (choice === 6){\n",
    "        this.x--;\n",
    "        this.y++;\n",
    "    }else if (choice === 7){\n",
    "        this.x--;\n",
    "        this.y--;\n",
    "    }\n",
    "};\n",
    "\n",
    "var walker1 = new walker ();\n",
    "\n",
    "draw = function() {\n",
    "    walker1.display();\n",
    "    walker1.movement();\n",
    "};\n"
   ]
  },
  {
   "cell_type": "markdown",
   "id": "2ab07c5f",
   "metadata": {},
   "source": [
    "22/05/2022"
   ]
  },
  {
   "cell_type": "code",
   "execution_count": null,
   "id": "166deab4",
   "metadata": {},
   "outputs": [],
   "source": [
    "# here I will use vectors instead of explicitly defining x and y components.\n",
    "\n",
    "var Walker = function() {\n",
    "    #PVecotor is inbuilt function to define vector, vector1 is just name I've given to this vector\n",
    "    this.vector1 = new PVector(width/2,height/2);\n",
    "};\n",
    "\n",
    "Walker.prototype.display = function() {\n",
    "    strokeWeight(3);\n",
    "    stroke(0, 0, 0);\n",
    "    # below we call on the x and y components of vector1 to pass into \"point\" function\n",
    "    point(this.vector1.x, this.vector1.y);\n",
    "};\n",
    "\n",
    "Walker.prototype.walk = function() {\n",
    " \n",
    " # generate a new vector which I called NextStep, randomly selects floating point number between -5 and\n",
    " # 5 for x and y component\n",
    "  var NextStep= new PVector(random(-5, 5), random(-5, 5));\n",
    " # use inbuild \"add\" function to add on NextStep vector to vector1\n",
    "   this.vector1.add(NextStep);\n",
    "};\n",
    "\n",
    "var w = new Walker();\n",
    "\n",
    "draw = function() {\n",
    "    w.walk();\n",
    "    w.display();\n",
    "};"
   ]
  }
 ],
 "metadata": {
  "kernelspec": {
   "display_name": "Python 3",
   "language": "python",
   "name": "python3"
  },
  "language_info": {
   "codemirror_mode": {
    "name": "ipython",
    "version": 3
   },
   "file_extension": ".py",
   "mimetype": "text/x-python",
   "name": "python",
   "nbconvert_exporter": "python",
   "pygments_lexer": "ipython3",
   "version": "3.8.8"
  }
 },
 "nbformat": 4,
 "nbformat_minor": 5
}
